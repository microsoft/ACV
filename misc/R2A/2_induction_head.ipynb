{
 "cells": [
  {
   "cell_type": "code",
   "execution_count": 1,
   "id": "7ce57adb",
   "metadata": {},
   "outputs": [],
   "source": [
    "import matplotlib.pyplot as plt\n",
    "\n",
    "# auto reload\n",
    "%load_ext autoreload\n",
    "%autoreload 2"
   ]
  },
  {
   "cell_type": "code",
   "execution_count": 2,
   "id": "786a2fab",
   "metadata": {},
   "outputs": [
    {
     "data": {
      "text/plain": [
       "<torch.autograd.grad_mode.set_grad_enabled at 0x7532f2b41fd0>"
      ]
     },
     "execution_count": 2,
     "metadata": {},
     "output_type": "execute_result"
    }
   ],
   "source": [
    "import torch\n",
    "\n",
    "device = \"cuda\" if torch.cuda.is_available() else \"cpu\"\n",
    "\n",
    "torch.set_grad_enabled(False)"
   ]
  },
  {
   "cell_type": "code",
   "execution_count": 3,
   "id": "fd5a6a9b",
   "metadata": {},
   "outputs": [
    {
     "name": "stderr",
     "output_type": "stream",
     "text": [
      "/mnt/miniconda3/envs/sae_reasoning/lib/python3.11/site-packages/tqdm/auto.py:21: TqdmWarning: IProgress not found. Please update jupyter and ipywidgets. See https://ipywidgets.readthedocs.io/en/stable/user_install.html\n",
      "  from .autonotebook import tqdm as notebook_tqdm\n"
     ]
    },
    {
     "name": "stderr",
     "output_type": "stream",
     "text": [
      "Fetching 2 files: 100%|██████████| 2/2 [01:23<00:00, 41.69s/it]\n",
      "Sliding Window Attention is enabled but not implemented for `sdpa`; unexpected results may be encountered.\n",
      "Loading checkpoint shards: 100%|██████████| 2/2 [00:00<00:00,  2.17it/s]\n"
     ]
    },
    {
     "name": "stdout",
     "output_type": "stream",
     "text": [
      "Loaded pretrained model deepseek-ai/DeepSeek-R1-Distill-Qwen-7B into HookedTransformer\n"
     ]
    },
    {
     "data": {
      "text/plain": [
       "<matplotlib.image.AxesImage at 0x79b5f02c64d0>"
      ]
     },
     "execution_count": 3,
     "metadata": {},
     "output_type": "execute_result"
    },
    {
     "data": {
      "image/png": "[encoded data removed]",
      "text/plain": [
       "<Figure size 640x480 with 1 Axes>"
      ]
     },
     "metadata": {},
     "output_type": "display_data"
    }
   ],
   "source": [
    "from transformer_lens.head_detector import detect_head\n",
    "from transformer_lens import HookedTransformer\n",
    "\n",
    "# model_alias, model_path = 'llama-8B', r\"deepseek-ai/DeepSeek-R1-Distill-Llama-8B\"\n",
    "# model_alias, model_path = 'qwen-1p5B', r\"deepseek-ai/DeepSeek-R1-Distill-Qwen-1.5B\"\n",
    "model_alias, model_path = 'qwen-7B', r\"deepseek-ai/DeepSeek-R1-Distill-Qwen-7B\" \n",
    "\n",
    "model = HookedTransformer.from_pretrained_no_processing(\n",
    "    model_path,\n",
    "    dtype=torch.bfloat16,\n",
    "    device=device,\n",
    ")\n",
    "\n",
    "prompts = [\n",
    "    \"one two three one two three one two three\",\n",
    "    \"1 2 3 4 5 1 2 3 4 1 2 3 1 2 3 4 5 6 7\",\n",
    "    \"green ideas sleep furiously; green ideas don't sleep furiously\"\n",
    "]\n",
    "\n",
    "# head_scores = detect_head(model, prompts, \"induction_head\", exclude_bos=False, exclude_current_token=False, error_measure=\"abs\")\n",
    "head_scores = detect_head(model, prompts, \"induction_head\")\n",
    "head_scores = head_scores.to(torch.float32).detach().cpu().numpy()\n",
    "plt.imshow(head_scores)"
   ]
  },
  {
   "cell_type": "code",
   "execution_count": 11,
   "id": "4b41df0c",
   "metadata": {},
   "outputs": [
    {
     "data": {
      "text/plain": [
       "[(14, 6),\n",
       " (22, 3),\n",
       " (2, 26),\n",
       " (17, 8),\n",
       " (22, 2),\n",
       " (17, 13),\n",
       " (14, 2),\n",
       " (5, 19),\n",
       " (7, 6),\n",
       " (5, 18)]"
      ]
     },
     "execution_count": 11,
     "metadata": {},
     "output_type": "execute_result"
    }
   ],
   "source": [
    "from utils.utils_MI import get_topk_head_pos\n",
    "\n",
    "topk_coords, topk_values = get_topk_head_pos(head_scores)\n",
    "topk_coords"
   ]
  },
  {
   "cell_type": "code",
   "execution_count": null,
   "id": "6ecf9970",
   "metadata": {},
   "outputs": [],
   "source": []
  }
 ],
 "metadata": {
  "kernelspec": {
   "display_name": "r2a",
   "language": "python",
   "name": "python3"
  },
  "language_info": {
   "codemirror_mode": {
    "name": "ipython",
    "version": 3
   },
   "file_extension": ".py",
   "mimetype": "text/x-python",
   "name": "python",
   "nbconvert_exporter": "python",
   "pygments_lexer": "ipython3",
   "version": "3.11.13"
  }
 },
 "nbformat": 4,
 "nbformat_minor": 5
}
